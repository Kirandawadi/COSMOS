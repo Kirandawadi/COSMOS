{
 "cells": [
  {
   "cell_type": "code",
   "execution_count": 7,
   "metadata": {},
   "outputs": [],
   "source": [
    "import json\n",
    "import pandas as pd\n",
    "from urllib.parse import urlparse"
   ]
  },
  {
   "cell_type": "code",
   "execution_count": 9,
   "metadata": {},
   "outputs": [
    {
     "name": "stdout",
     "output_type": "stream",
     "text": [
      "/docs/spectra_ws.html\n"
     ]
    }
   ],
   "source": [
    "bulk_data = [\n",
    "    {\n",
    "        \"data\": {\n",
    "            \"collection\": 85,\n",
    "            \"url\": \"exo.mast.stsci.edu/docs/\",\n",
    "            \"excluded\": False,\n",
    "            \"title\": \"Root URL is this one\",\n",
    "        },\n",
    "        \"children\": []\n",
    "    }\n",
    "]\n",
    "\n",
    "def add_to_root_node(path, title, root_node):\n",
    "    \"\"\"Recursively figure out where to add a URL to the root node.\"\"\"\n",
    "    path_parts = path.split('/')\n",
    "    if path_parts[0] == '':\n",
    "        path_parts = path_parts[1:]\n",
    "    if path_parts[0] == '':\n",
    "        path_parts = path_parts[1:]\n",
    "    if path_parts[-1] == '':\n",
    "        path_parts = path_parts[:-1]\n",
    "    if path_parts[-1] == '':\n",
    "        path_parts = path_parts[:-1]\n",
    "    if len(path_parts) == 0:\n",
    "        return\n",
    "    if len(path_parts) == 1:\n",
    "        root_node['children'].append({\n",
    "            \"data\": {\n",
    "                \"collection\": 85,\n",
    "                \"url\": path,\n",
    "                \"excluded\": False,\n",
    "                \"title\": title,\n",
    "            },\n",
    "        })\n",
    "        return\n",
    "    for child in root_node['children']:\n",
    "        if child['data']['url'] == path_parts[0]:\n",
    "            add_to_root_node('/'.join(path_parts[1:]), title, child)\n",
    "            return\n",
    "    new_node = {\n",
    "        \"data\": {\n",
    "            \"collection\": 85,\n",
    "            \"url\": path_parts[0],\n",
    "            \"excluded\": False,\n",
    "            \"title\": path_parts[0],\n",
    "        },\n",
    "        \"children\": []\n",
    "    }\n",
    "    root_node['children'].append(new_node)\n",
    "    add_to_root_node('/'.join(path_parts[1:]), title, new_node)\n",
    "\n",
    "with open('urls.jsonl', 'r') as jsonfile:\n",
    "    urls = jsonfile.readlines()\n",
    "    root_node = {\n",
    "        \"data\": {\n",
    "            \"collection\": 85,\n",
    "            \"url\": json.loads(urls[0])['url'],\n",
    "            \"excluded\": False,\n",
    "            \"title\": json.loads(urls[0])['title'],\n",
    "        },\n",
    "        \"children\": []\n",
    "    }\n",
    "    bulk_data.append(root_node)\n",
    "\n",
    "    for url in urls[1:]:\n",
    "        url = json.loads(url)\n",
    "        parsed = urlparse(url['url'])\n",
    "        add_to_root_node(parsed.path, url['title'], root_node)\n",
    "        break"
   ]
  },
  {
   "cell_type": "code",
   "execution_count": 12,
   "metadata": {},
   "outputs": [
    {
     "data": {
      "text/plain": [
       "['', 'dvdata', 'kepler', '8394721', 'phaseplot', '?tce=2']"
      ]
     },
     "execution_count": 12,
     "metadata": {},
     "output_type": "execute_result"
    }
   ],
   "source": [
    "path = '/dvdata/kepler/8394721/phaseplot/?tce=2'\n",
    "path.split('/')"
   ]
  },
  {
   "cell_type": "code",
   "execution_count": 5,
   "metadata": {},
   "outputs": [
    {
     "data": {
      "text/plain": [
       "{'url': 'https://exo.mast.stsci.edu/api/v0.1/dvdata/kepler/8394721/phaseplot/?tce=2',\n",
       " 'title': 'Phased Light Curve'}"
      ]
     },
     "execution_count": 5,
     "metadata": {},
     "output_type": "execute_result"
    }
   ],
   "source": [
    "url"
   ]
  },
  {
   "cell_type": "code",
   "execution_count": 26,
   "metadata": {},
   "outputs": [
    {
     "name": "stdout",
     "output_type": "stream",
     "text": [
      "Node('/root')\n"
     ]
    }
   ],
   "source": [
    "from anytree import Node, RenderTree\n",
    "\n",
    "root = Node('root')\n",
    "\n",
    "def add_to_tree(path, parent=root):\n",
    "    splits = path.split('/')\n",
    "    if splits[0] == '':\n",
    "        parent = root\n",
    "    \n",
    "    for split in splits:\n",
    "        node = Node(split, parent=parent)\n",
    "        add_to_tree('/'.join(splits[1:]), parent=node)\n",
    "\n",
    "with open('urls.jsonl', 'r') as jsonfile:\n",
    "    urls = jsonfile.readlines()\n",
    "\n",
    "    root = Node('root')\n",
    "    for url in urls:\n",
    "        url = json.loads(url)\n",
    "        parsed = urlparse(url['url'])\n",
    "        add_to_tree(parsed.path)\n",
    "\n",
    "print(RenderTree(root))"
   ]
  },
  {
   "cell_type": "code",
   "execution_count": 27,
   "metadata": {},
   "outputs": [],
   "source": [
    "with open('urls.jsonl', 'r') as jsonfile:\n",
    "    urls = jsonfile.readlines()"
   ]
  },
  {
   "cell_type": "code",
   "execution_count": 36,
   "metadata": {},
   "outputs": [],
   "source": [
    "lst = [urlparse(json.loads(url)['url']).path.split('/')[1:] for url in urls]"
   ]
  },
  {
   "cell_type": "code",
   "execution_count": 38,
   "metadata": {},
   "outputs": [],
   "source": [
    "from collections import defaultdict\n",
    "\n",
    "tree = lambda: defaultdict(tree)\n",
    "\n",
    "def make_tree(lst):\n",
    "    d = tree()    \n",
    "    for x in lst:\n",
    "        curr = d\n",
    "        for item in x:\n",
    "             curr = curr[item]\n",
    "    return d\n",
    "\n",
    "d = make_tree(lst)\n",
    "\n",
    "def make_strs(d, indent=0):\n",
    "     strs = []\n",
    "     for k, v in d.items():\n",
    "         strs.append('    ' * indent + str(k))\n",
    "         strs.extend(make_strs(v, indent+1))\n",
    "     return strs\n",
    "\n",
    "def print_tree(d):\n",
    "    print('\\n'.join(make_strs(d)))\n",
    "\n",
    "# print_tree(d)"
   ]
  },
  {
   "cell_type": "code",
   "execution_count": 55,
   "metadata": {},
   "outputs": [
    {
     "data": {
      "text/plain": [
       "[{'data': {'url': 'docs'},\n",
       "  'children': [{'data': {'url': 'spectra_ws.html'}, 'children': []},\n",
       "   {'data': {'url': '_sources'},\n",
       "    'children': [{'data': {'url': 'index.rst.txt'}, 'children': []},\n",
       "     {'data': {'url': 'spectra_ws.rst.txt'}, 'children': []},\n",
       "     {'data': {'url': 'exoplanets_ws.rst.txt'}, 'children': []},\n",
       "     {'data': {'url': 'swagger'},\n",
       "      'children': [{'data': {'url': 'index.rst.txt'}, 'children': []}]},\n",
       "     {'data': {'url': 'dvdata_ws.rst.txt'}, 'children': []},\n",
       "     {'data': {'url': 'getting_started.rst.txt'}, 'children': []}]},\n",
       "   {'data': {'url': 'exoplanets_ws.html'}, 'children': []},\n",
       "   {'data': {'url': 'dvdata_ws.html'}, 'children': []},\n",
       "   {'data': {'url': 'swagger'},\n",
       "    'children': [{'data': {'url': 'index.html'}, 'children': []}]},\n",
       "   {'data': {'url': 'getting_started.html'}, 'children': []},\n",
       "   {'data': {'url': 'index.html'}, 'children': []}]},\n",
       " {'data': {'url': 'api'},\n",
       "  'children': [{'data': {'url': 'v0.1'},\n",
       "    'children': [{'data': {'url': 'dvdata'},\n",
       "      'children': [{'data': {'url': 'kepler'},\n",
       "        'children': [{'data': {'url': '8394721'},\n",
       "          'children': [{'data': {'url': 'info'}, 'children': []},\n",
       "           {'data': {'url': 'tces'}, 'children': []},\n",
       "           {'data': {'url': 'table'}, 'children': []},\n",
       "           {'data': {'url': 'phaseplot'}, 'children': []}]}]},\n",
       "       {'data': {'url': 'tess'},\n",
       "        'children': [{'data': {'url': '388104525'},\n",
       "          'children': [{'data': {'url': 'info'}, 'children': []},\n",
       "           {'data': {'url': 'tces'}, 'children': []},\n",
       "           {'data': {'url': 'table'}, 'children': []}]},\n",
       "         {'data': {'url': 'info'}, 'children': []}]}]},\n",
       "     {'data': {'url': 'exoplanets'},\n",
       "      'children': [{'data': {'url': 'identifiers'}, 'children': []},\n",
       "       {'data': {'url': 'TrES-2%20b'},\n",
       "        'children': [{'data': {'url': 'properties'}, 'children': []}]}]},\n",
       "     {'data': {'url': 'spectra'},\n",
       "      'children': [{'data': {'url': 'Hat-P-11%20b'},\n",
       "        'children': [{'data': {'url': 'file'},\n",
       "          'children': [{'data': {'url': 'HAT-P-11b_transmission_Fraine2014.txt'},\n",
       "            'children': []}]},\n",
       "         {'data': {'url': 'filelist'}, 'children': []},\n",
       "         {'data': {'url': 'plot'}, 'children': []}]}]}]}]}]"
      ]
     },
     "execution_count": 55,
     "metadata": {},
     "output_type": "execute_result"
    }
   ],
   "source": [
    "def make_bulk_data(d, level=0):\n",
    "    children = []\n",
    "    for k, v in d.items():\n",
    "        if not k:\n",
    "            continue\n",
    "        children.append({\"data\": {\"url\": k,}, \"children\": make_bulk_data(v, level+1)})\n",
    "    return children\n",
    "\n",
    "make_bulk_data(d)"
   ]
  }
 ],
 "metadata": {
  "kernelspec": {
   "display_name": "base",
   "language": "python",
   "name": "python3"
  },
  "language_info": {
   "codemirror_mode": {
    "name": "ipython",
    "version": 3
   },
   "file_extension": ".py",
   "mimetype": "text/x-python",
   "name": "python",
   "nbconvert_exporter": "python",
   "pygments_lexer": "ipython3",
   "version": "3.9.13"
  },
  "orig_nbformat": 4
 },
 "nbformat": 4,
 "nbformat_minor": 2
}
