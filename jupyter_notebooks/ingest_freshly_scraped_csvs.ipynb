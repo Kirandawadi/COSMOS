{
 "cells": [
  {
   "cell_type": "code",
   "execution_count": 8,
   "metadata": {},
   "outputs": [],
   "source": [
    "import pandas as pd\n",
    "from glob import glob\n",
    "import os"
   ]
  },
  {
   "cell_type": "code",
   "execution_count": 6,
   "metadata": {},
   "outputs": [
    {
     "data": {
      "text/plain": [
       "['freshly_scraped/ASTRO_Hubble_Source_Catalog_Search_API_Website.csv',\n",
       " 'freshly_scraped/ASTRO_MAST_Documentation_Website.csv',\n",
       " 'freshly_scraped/ASTRO_Calibration_Documentation_Website.csv',\n",
       " 'freshly_scraped/ASTRO_NASA_Exoplanet_Archive_Documents_Website.csv',\n",
       " 'freshly_scraped/ASTRO_HIRES_PRV_Website.csv',\n",
       " 'freshly_scraped/ASTRO_Contributed_Datasets_Website.csv',\n",
       " 'freshly_scraped/ASTRO_ZMAST_API_Website.csv',\n",
       " 'freshly_scraped/ASTRO_Spitzer_Tools_Website.csv',\n",
       " 'freshly_scraped/ASTRO_TAP_Search_Website.csv',\n",
       " 'freshly_scraped/ASTRO_exoMAST_API_Website.csv',\n",
       " 'freshly_scraped/ASTRO_Image_Cutouts_Website.csv',\n",
       " 'freshly_scraped/ASTRO_API_Search_Website.csv',\n",
       " 'freshly_scraped/ASTRO_Data_Reduction_Tools_Website.csv']"
      ]
     },
     "execution_count": 6,
     "metadata": {},
     "output_type": "execute_result"
    }
   ],
   "source": [
    "list(glob('freshly_scraped/*.*'))"
   ]
  },
  {
   "cell_type": "code",
   "execution_count": 12,
   "metadata": {},
   "outputs": [
    {
     "name": "stdout",
     "output_type": "stream",
     "text": [
      "1049\n",
      "1047\n",
      "1055\n",
      "1059\n",
      "1058\n",
      "1057\n",
      "1048\n",
      "1051\n",
      "1060\n",
      "1046\n",
      "1050\n",
      "1061\n",
      "1056\n"
     ]
    }
   ],
   "source": [
    "# see if we can match\n",
    "for file in list(glob('freshly_scraped/*.*')):\n",
    "    file_name = os.path.basename(file)\n",
    "    file_name, ext = os.path.splitext(file_name)\n",
    "    print(collection_ids[file_name])\n"
   ]
  },
  {
   "cell_type": "code",
   "execution_count": 14,
   "metadata": {},
   "outputs": [],
   "source": [
    "# load and convert to the format we want\n",
    "for file in list(glob('freshly_scraped/*.*')):\n",
    "    df = pd.read_csv(file)"
   ]
  },
  {
   "cell_type": "code",
   "execution_count": 16,
   "metadata": {},
   "outputs": [
    {
     "name": "stdout",
     "output_type": "stream",
     "text": [
      "13\n"
     ]
    }
   ],
   "source": [
    "import json\n",
    "\n",
    "fresh_collections = glob('freshly_scraped/*.*')\n",
    "print(len(fresh_collections))\n",
    "def generate_json(row, config_folder):\n",
    "    return {\n",
    "        \"model\": \"sde_collections.candidateurl\",\n",
    "        \"fields\": {\n",
    "            \"collection\": collection_ids[config_folder],\n",
    "            \"url\": row.url,\n",
    "            \"scraped_title\": row.title,\n",
    "            \"generated_title\": \"\",\n",
    "            \"level\": 2,\n",
    "            \"visited\": False\n",
    "        }\n",
    "    }\n",
    "\n",
    "for collection in fresh_collections:\n",
    "    file_name = os.path.basename(collection)\n",
    "    config_folder, _ = os.path.splitext(file_name)\n",
    "\n",
    "    with open(collection, \"r\") as f:\n",
    "        directory = f'../scraper/scraped_urls/fresh/{config_folder}'\n",
    "\n",
    "        if not config_folder in collection_ids:\n",
    "            try:\n",
    "                config_folder = replacement_dict[config_folder]\n",
    "            except KeyError:\n",
    "                print(f\"Skipping {config_folder}\")\n",
    "                continue\n",
    "        df = pd.read_csv(\n",
    "            collection,\n",
    "            names=[\"url\", \"title\"],\n",
    "        )\n",
    "        df = df[[\"url\", \"title\"]]\n",
    "        if len(df) == 0:\n",
    "            continue\n",
    "        if not os.path.exists(directory):\n",
    "            os.makedirs(directory)\n",
    "        json_file_name = f\"{directory}/urls.json\"\n",
    "        try:\n",
    "            df = df.drop_duplicates(subset=['url'])\n",
    "            # if config_folder == 'PDS_NASA_Science_Earths_Moon_Website':\n",
    "            # remove lines that don't start with http\n",
    "            df = df[df.url.str.lower().str.startswith('http')]\n",
    "            df['json'] = df.apply(generate_json, args=(config_folder, ), axis=1)\n",
    "\n",
    "            with open(json_file_name, \"w\") as f:\n",
    "                f.write(json.dumps(df['json'].to_list(), indent=4))\n",
    "        except KeyError:\n",
    "            print(f\"Some key error on: {config_folder}\")"
   ]
  },
  {
   "cell_type": "code",
   "execution_count": 20,
   "metadata": {},
   "outputs": [
    {
     "name": "stdout",
     "output_type": "stream",
     "text": [
      "python manage.py loaddata scraper/scraped_urls/fresh/ASTRO_Spitzer_Tools_Website/urls.json\n",
      "python manage.py loaddata scraper/scraped_urls/fresh/ASTRO_Data_Reduction_Tools_Website/urls.json\n",
      "python manage.py loaddata scraper/scraped_urls/fresh/ASTRO_ZMAST_API_Website/urls.json\n",
      "python manage.py loaddata scraper/scraped_urls/fresh/ASTRO_Calibration_Documentation_Website/urls.json\n",
      "python manage.py loaddata scraper/scraped_urls/fresh/ASTRO_exoMAST_API_Website/urls.json\n",
      "python manage.py loaddata scraper/scraped_urls/fresh/ASTRO_Hubble_Source_Catalog_Search_API_Website/urls.json\n",
      "python manage.py loaddata scraper/scraped_urls/fresh/ASTRO_Image_Cutouts_Website/urls.json\n",
      "python manage.py loaddata scraper/scraped_urls/fresh/ASTRO_NASA_Exoplanet_Archive_Documents_Website/urls.json\n",
      "python manage.py loaddata scraper/scraped_urls/fresh/ASTRO_HIRES_PRV_Website/urls.json\n",
      "python manage.py loaddata scraper/scraped_urls/fresh/ASTRO_API_Search_Website/urls.json\n",
      "python manage.py loaddata scraper/scraped_urls/fresh/ASTRO_MAST_Documentation_Website/urls.json\n",
      "python manage.py loaddata scraper/scraped_urls/fresh/ASTRO_TAP_Search_Website/urls.json\n",
      "python manage.py loaddata scraper/scraped_urls/fresh/ASTRO_Contributed_Datasets_Website/urls.json\n"
     ]
    }
   ],
   "source": [
    "def generate_ingestion_commands():\n",
    "    folders = glob('../scraper/scraped_urls/fresh/*')\n",
    "    for folder in folders:\n",
    "        folder = os.path.basename(os.path.normpath(folder))\n",
    "        print(f\"python manage.py loaddata scraper/scraped_urls/fresh/{folder}/urls.json\")\n",
    "\n",
    "generate_ingestion_commands()"
   ]
  },
  {
   "cell_type": "code",
   "execution_count": null,
   "metadata": {},
   "outputs": [],
   "source": []
  },
  {
   "cell_type": "code",
   "execution_count": null,
   "metadata": {},
   "outputs": [],
   "source": []
  },
  {
   "cell_type": "code",
   "execution_count": null,
   "metadata": {},
   "outputs": [],
   "source": []
  }
 ],
 "metadata": {
  "kernelspec": {
   "display_name": "base",
   "language": "python",
   "name": "python3"
  },
  "language_info": {
   "codemirror_mode": {
    "name": "ipython",
    "version": 3
   },
   "file_extension": ".py",
   "mimetype": "text/x-python",
   "name": "python",
   "nbconvert_exporter": "python",
   "pygments_lexer": "ipython3",
   "version": "3.9.13"
  },
  "orig_nbformat": 4
 },
 "nbformat": 4,
 "nbformat_minor": 2
}
