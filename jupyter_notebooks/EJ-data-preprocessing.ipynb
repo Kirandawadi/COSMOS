{
 "cells": [
  {
   "cell_type": "code",
   "execution_count": 43,
   "id": "05559cc5-18b0-401a-af1c-e1332e449a9c",
   "metadata": {},
   "outputs": [],
   "source": [
    "import pandas as pd\n",
    "import re"
   ]
  },
  {
   "cell_type": "code",
   "execution_count": 44,
   "id": "954129c2-209a-4bef-b8e1-3cec1422e7b1",
   "metadata": {},
   "outputs": [
    {
     "data": {
      "text/plain": [
       "['Overview',\n",
       " 'Intended Use',\n",
       " 'Disasters (Desaster Recovery)',\n",
       " 'Food Availability',\n",
       " 'Extreme Heat',\n",
       " 'Climate (Climate Change)',\n",
       " 'Water Availability',\n",
       " 'Health and Air Quality',\n",
       " 'Human Dimensions',\n",
       " 'Urban Flooding',\n",
       " 'External',\n",
       " 'Glossary']"
      ]
     },
     "execution_count": 44,
     "metadata": {},
     "output_type": "execute_result"
    }
   ],
   "source": [
    "PATH = '/Users/bpraveen23-ltp/Desktop/nasa_esds_ej-data-catalog_v2_01-25-2023.xlsx'\n",
    "xl = pd.ExcelFile(PATH)\n",
    "sheet_names = xl.sheet_names\n",
    "sheet_names"
   ]
  },
  {
   "cell_type": "code",
   "execution_count": 45,
   "id": "7c600f5a-a492-4cde-9e28-7ecf9102d412",
   "metadata": {},
   "outputs": [
    {
     "data": {
      "text/plain": [
       "['Disasters (Desaster Recovery)',\n",
       " 'Food Availability',\n",
       " 'Extreme Heat',\n",
       " 'Climate (Climate Change)',\n",
       " 'Water Availability',\n",
       " 'Health and Air Quality',\n",
       " 'Human Dimensions',\n",
       " 'Urban Flooding',\n",
       " 'External']"
      ]
     },
     "execution_count": 45,
     "metadata": {},
     "output_type": "execute_result"
    }
   ],
   "source": [
    "sheet_names.pop()\n",
    "del sheet_names[0]\n",
    "del sheet_names[0]\n",
    "sheet_names"
   ]
  },
  {
   "cell_type": "code",
   "execution_count": 46,
   "id": "6bf42050-c75e-4a89-948f-7b5fd186d860",
   "metadata": {},
   "outputs": [],
   "source": [
    "sheet_dict = {\n",
    "    \"disasters\": \"Disasters (Desaster Recovery)\",\n",
    "    \"food_availability\": \"Food Availability\",\n",
    "    \"extreme_heat\": \"Extreme Heat\",\n",
    "    \"climate\": \"Climate (Climate Change)\",\n",
    "    \"water_availability\": \"Water Availability\",\n",
    "    \"health_and_air_quality\": \"Health and Air Quality\",\n",
    "    \"human_dimensions\": \"Human Dimensions\",\n",
    "    \"urban_flooding\": \"Urban Flooding\",\n",
    "    \"external\": \"External\",\n",
    "}\n",
    "\n",
    "sheet_dict = {v: k for k, v in sheet_dict.items()}"
   ]
  },
  {
   "cell_type": "code",
   "execution_count": 47,
   "id": "99506eaa-4faf-4545-aa9c-f83e7e92724a",
   "metadata": {},
   "outputs": [],
   "source": [
    "dataframes = {}\n",
    "for sheet_name in sheet_dict.keys():\n",
    "    dataframes[sheet_name] = pd.read_excel(PATH, sheet_name=sheet_name, header=1)"
   ]
  },
  {
   "cell_type": "code",
   "execution_count": 48,
   "id": "d84059bc-0ee2-4377-ad86-398039cdf776",
   "metadata": {},
   "outputs": [],
   "source": [
    "standard_columns = ['Dataset',\n",
    "       'Indicators                     (Select from drop-down list)',\n",
    "       'Description', 'Description Simplified', 'Geographic Coverage',\n",
    "       'Format', 'Spatial Resolution', 'Temporal Resolution',\n",
    "       'Temporal Extent', 'Latency', 'Source/Link', 'Project', 'Strengths',\n",
    "       'Limitations', 'Data Visualization', 'Intended Use']"
   ]
  },
  {
   "cell_type": "code",
   "execution_count": 49,
   "id": "e06bd64a-4bc3-48e6-9cf9-b01a4656bf14",
   "metadata": {},
   "outputs": [
    {
     "name": "stdout",
     "output_type": "stream",
     "text": [
      "Disasters (Desaster Recovery) set()\n",
      "Food Availability set()\n",
      "Extreme Heat set()\n",
      "Climate (Climate Change) set()\n",
      "Water Availability set()\n",
      "Health and Air Quality set()\n",
      "Human Dimensions set()\n",
      "Urban Flooding set()\n",
      "External {'Data Visualization', 'Description Simplified'}\n"
     ]
    }
   ],
   "source": [
    "for sheet_name, df in dataframes.items():\n",
    "    print(sheet_name, set(standard_columns) - set(df.columns))"
   ]
  },
  {
   "cell_type": "code",
   "execution_count": 50,
   "id": "2146a0aa-f9da-4bd7-ac4c-d25177126e5c",
   "metadata": {},
   "outputs": [
    {
     "name": "stdout",
     "output_type": "stream",
     "text": [
      "Disasters (Desaster Recovery) set()\n",
      "Food Availability set()\n",
      "Extreme Heat set()\n",
      "Climate (Climate Change) {'Unnamed: 17', 'Unnamed: 16'}\n",
      "Water Availability set()\n",
      "Health and Air Quality {'Unnamed: 23', 'Unnamed: 21', 'Unnamed: 25', 'Unnamed: 18', 'Unnamed: 22', 'Unnamed: 17', 'Unnamed: 19', 'Unnamed: 16', 'Unnamed: 26', 'Unnamed: 24', 'Unnamed: 20'}\n",
      "Human Dimensions set()\n",
      "Urban Flooding set()\n",
      "External set()\n"
     ]
    }
   ],
   "source": [
    "for sheet_name, df in dataframes.items():\n",
    "    print(sheet_name, set(df.columns) - set(standard_columns))"
   ]
  },
  {
   "cell_type": "code",
   "execution_count": 51,
   "id": "f30519ef-126e-4cfc-ad40-a141e23af041",
   "metadata": {},
   "outputs": [],
   "source": [
    "total_count = 0\n",
    "\n",
    "for sheet_name, df in dataframes.items():\n",
    "    total_count += len(df)"
   ]
  },
  {
   "cell_type": "code",
   "execution_count": 52,
   "id": "e14e9dc8-2486-496d-b7ec-063f38c45f8c",
   "metadata": {},
   "outputs": [],
   "source": [
    "list_of_dfs = []\n",
    "for sheet_name, dataframe in dataframes.items():\n",
    "    list_of_dfs.append(dataframe)"
   ]
  },
  {
   "cell_type": "code",
   "execution_count": 53,
   "id": "0f0433e6-4a9d-412b-a935-5bd0fe49eae9",
   "metadata": {},
   "outputs": [],
   "source": [
    "combined = pd.concat(list_of_dfs)"
   ]
  },
  {
   "cell_type": "code",
   "execution_count": 54,
   "id": "98271cac-bf35-406f-9a47-15d61366d32f",
   "metadata": {},
   "outputs": [
    {
     "data": {
      "text/plain": [
       "Index(['Dataset',\n",
       "       'Indicators                     (Select from drop-down list)',\n",
       "       'Description', 'Description Simplified', 'Geographic Coverage',\n",
       "       'Format', 'Spatial Resolution', 'Temporal Resolution',\n",
       "       'Temporal Extent', 'Latency', 'Source/Link', 'Project', 'Strengths',\n",
       "       'Limitations', 'Data Visualization', 'Intended Use', 'Unnamed: 16',\n",
       "       'Unnamed: 17', 'Unnamed: 18', 'Unnamed: 19', 'Unnamed: 20',\n",
       "       'Unnamed: 21', 'Unnamed: 22', 'Unnamed: 23', 'Unnamed: 24',\n",
       "       'Unnamed: 25', 'Unnamed: 26'],\n",
       "      dtype='object')"
      ]
     },
     "execution_count": 54,
     "metadata": {},
     "output_type": "execute_result"
    }
   ],
   "source": [
    "combined.columns"
   ]
  },
  {
   "cell_type": "code",
   "execution_count": 55,
   "id": "eb247cfe-cf0f-437d-a211-4a75ea8778f3",
   "metadata": {},
   "outputs": [],
   "source": [
    "cols = ['Unnamed: 16',\n",
    "       'Unnamed: 17', 'Unnamed: 18', 'Unnamed: 19', 'Unnamed: 20',\n",
    "       'Unnamed: 21', 'Unnamed: 22', 'Unnamed: 23', 'Unnamed: 24',\n",
    "       'Unnamed: 25', 'Unnamed: 26']"
   ]
  },
  {
   "cell_type": "code",
   "execution_count": 56,
   "id": "c449b579-c31d-4fce-8cf6-116cd37ca089",
   "metadata": {},
   "outputs": [],
   "source": [
    "for col in cols:\n",
    "    combined.drop(col, axis=1, inplace=True)"
   ]
  },
  {
   "cell_type": "code",
   "execution_count": 57,
   "id": "005f9d30-6819-4514-a05c-98ade7914938",
   "metadata": {},
   "outputs": [
    {
     "data": {
      "text/plain": [
       "154"
      ]
     },
     "execution_count": 57,
     "metadata": {},
     "output_type": "execute_result"
    }
   ],
   "source": [
    "len(combined[combined.duplicated(keep=False)].sort_values('Dataset'))\n"
   ]
  },
  {
   "cell_type": "code",
   "execution_count": 58,
   "id": "a99e8ba5-31ec-404f-ad9e-184b97cce4f8",
   "metadata": {},
   "outputs": [],
   "source": [
    "combined = combined.drop_duplicates()\n"
   ]
  },
  {
   "cell_type": "code",
   "execution_count": 59,
   "id": "582fa881-9bd9-4817-b9f4-43f584a859d4",
   "metadata": {},
   "outputs": [
    {
     "name": "stdout",
     "output_type": "stream",
     "text": [
      "Dataset\n",
      "Indicators                     (Select from drop-down list)\n",
      "Description\n",
      "Description Simplified\n",
      "Geographic Coverage\n",
      "Format\n",
      "Spatial Resolution\n",
      "Temporal Resolution\n",
      "Temporal Extent\n",
      "Latency\n",
      "Source/Link\n",
      "Project\n",
      "Strengths\n",
      "Limitations\n",
      "Data Visualization\n",
      "Intended Use\n"
     ]
    }
   ],
   "source": [
    "for col in combined.columns:\n",
    "    print(col)"
   ]
  },
  {
   "cell_type": "code",
   "execution_count": 60,
   "id": "60468475-72f8-473b-9f8b-a5f6161e4c92",
   "metadata": {},
   "outputs": [],
   "source": [
    "cols = {\"Dataset\": \"dataset\",\n",
    "\"Indicators                     (Select from drop-down list)\": \"indicators\",\n",
    "\"Description\": \"description\",\n",
    "\"Description Simplified\": \"description_simplified\",\n",
    "\"Geographic Coverage\": \"geographic_coverage\",\n",
    "\"Format\": \"format\",\n",
    "\"Spatial Resolution\": \"spatial_resolution\",\n",
    "\"Temporal Resolution\": \"temporal_resolution\",\n",
    "\"Temporal Extent\": \"temporal_extent\",\n",
    "\"Latency\": \"latency\",\n",
    "\"Source/Link\": \"source_link\",\n",
    "\"Project\": \"project\",\n",
    "\"Strengths\": \"strengths\",\n",
    "\"Limitations\": \"limitations\",\n",
    "\"Data Visualization\": \"data_visualization\",\n",
    "\"Intended Use\": \"intended_use\",}"
   ]
  },
  {
   "cell_type": "code",
   "execution_count": 61,
   "id": "7ba657f6-2257-4780-9d95-cab475089d1c",
   "metadata": {},
   "outputs": [],
   "source": [
    "combined.rename(columns=cols, inplace=True)"
   ]
  },
  {
   "cell_type": "code",
   "execution_count": 62,
   "id": "90db3b0a-3804-40a0-8fce-3afffca68315",
   "metadata": {},
   "outputs": [],
   "source": [
    "def clean_url(url):\n",
    "    print(url)\n",
    "    if isinstance(url, str):\n",
    "        return url.replace('\\/', '/').strip()\n",
    "    print(url)\n",
    "    return url"
   ]
  },
  {
   "cell_type": "code",
   "execution_count": 63,
   "id": "91f66497-a508-4da3-bd6f-86f992aad125",
   "metadata": {},
   "outputs": [],
   "source": [
    "combined.to_json('data/ej-data.json', orient='records')"
   ]
  }
 ],
 "metadata": {
  "kernelspec": {
   "display_name": "Python 3 (ipykernel)",
   "language": "python",
   "name": "python3"
  },
  "language_info": {
   "codemirror_mode": {
    "name": "ipython",
    "version": 3
   },
   "file_extension": ".py",
   "mimetype": "text/x-python",
   "name": "python",
   "nbconvert_exporter": "python",
   "pygments_lexer": "ipython3",
   "version": "3.11.5"
  }
 },
 "nbformat": 4,
 "nbformat_minor": 5
}
