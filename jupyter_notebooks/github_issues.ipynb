{
 "cells": [
  {
   "cell_type": "code",
   "execution_count": 1,
   "metadata": {},
   "outputs": [],
   "source": [
    "import pandas as pd\n",
    "import json\n",
    "from thefuzz import fuzz\n",
    "from thefuzz import process"
   ]
  },
  {
   "cell_type": "code",
   "execution_count": 2,
   "metadata": {},
   "outputs": [],
   "source": [
    "gh_issues = json.load((open('data/governance_issues.json')))\n",
    "gh_issues_df = pd.DataFrame(gh_issues)"
   ]
  },
  {
   "cell_type": "code",
   "execution_count": 3,
   "metadata": {},
   "outputs": [],
   "source": [
    "gh_issues_df['title'] = gh_issues_df['title'].str.replace('Clean up ', '')\n",
    "gh_issues_df['title'] = gh_issues_df['title'].str.replace('Clean ', '')\n",
    "gh_issues_df['title'] = gh_issues_df['title'].str.replace('Index ', '')"
   ]
  },
  {
   "cell_type": "code",
   "execution_count": 4,
   "metadata": {},
   "outputs": [],
   "source": [
    "# Set the option to display all rows\n",
    "# pd.set_option('display.max_rows', None)\n",
    "# gh_issues_df"
   ]
  },
  {
   "cell_type": "code",
   "execution_count": 5,
   "metadata": {},
   "outputs": [],
   "source": [
    "collections = json.load((open('data/collections.json')))\n",
    "collections_df = pd.DataFrame(collections)"
   ]
  },
  {
   "cell_type": "code",
   "execution_count": 6,
   "metadata": {},
   "outputs": [],
   "source": [
    "collections_df['name'] = collections_df['fields'].apply(lambda x: x['name'])"
   ]
  },
  {
   "cell_type": "code",
   "execution_count": 7,
   "metadata": {},
   "outputs": [],
   "source": [
    "collections_df = collections_df[['pk', 'name']]"
   ]
  },
  {
   "cell_type": "code",
   "execution_count": 8,
   "metadata": {},
   "outputs": [],
   "source": [
    "gh_issues_df['guess_title'] = gh_issues_df['title'].apply(lambda x: process.extractOne(x, collections_df['name'])[0])"
   ]
  },
  {
   "cell_type": "code",
   "execution_count": 9,
   "metadata": {},
   "outputs": [
    {
     "data": {
      "text/html": [
       "<div>\n",
       "<style scoped>\n",
       "    .dataframe tbody tr th:only-of-type {\n",
       "        vertical-align: middle;\n",
       "    }\n",
       "\n",
       "    .dataframe tbody tr th {\n",
       "        vertical-align: top;\n",
       "    }\n",
       "\n",
       "    .dataframe thead th {\n",
       "        text-align: right;\n",
       "    }\n",
       "</style>\n",
       "<table border=\"1\" class=\"dataframe\">\n",
       "  <thead>\n",
       "    <tr style=\"text-align: right;\">\n",
       "      <th></th>\n",
       "      <th>title</th>\n",
       "      <th>url</th>\n",
       "      <th>guess_title</th>\n",
       "    </tr>\n",
       "  </thead>\n",
       "  <tbody>\n",
       "    <tr>\n",
       "      <th>0</th>\n",
       "      <td>Astromat</td>\n",
       "      <td>https://github.com/NASA-IMPACT/sde-project/iss...</td>\n",
       "      <td>Astromat: Astromaterials Data System</td>\n",
       "    </tr>\n",
       "    <tr>\n",
       "      <th>1</th>\n",
       "      <td>Integrated Software for Imagers and Spectromet...</td>\n",
       "      <td>https://github.com/NASA-IMPACT/sde-project/iss...</td>\n",
       "      <td>Integrated Software for Imagers and Spectromet...</td>\n",
       "    </tr>\n",
       "    <tr>\n",
       "      <th>2</th>\n",
       "      <td>PDS PDS Software Tools Tutorial and Viewers We...</td>\n",
       "      <td>https://github.com/NASA-IMPACT/sde-project/iss...</td>\n",
       "      <td>PDS PDS Software Tools Tutorial and Viewers We...</td>\n",
       "    </tr>\n",
       "    <tr>\n",
       "      <th>3</th>\n",
       "      <td>Atmospheric Escape Chemistry Page</td>\n",
       "      <td>https://github.com/NASA-IMPACT/sde-project/iss...</td>\n",
       "      <td>Atmospheric Escape Chemistry Page</td>\n",
       "    </tr>\n",
       "    <tr>\n",
       "      <th>4</th>\n",
       "      <td>PDS Cartography and Imaging Node Sciences Node...</td>\n",
       "      <td>https://github.com/NASA-IMPACT/sde-project/iss...</td>\n",
       "      <td>PDS Cartography and Imaging Node Sciences Node...</td>\n",
       "    </tr>\n",
       "    <tr>\n",
       "      <th>...</th>\n",
       "      <td>...</td>\n",
       "      <td>...</td>\n",
       "      <td>...</td>\n",
       "    </tr>\n",
       "    <tr>\n",
       "      <th>112</th>\n",
       "      <td>Goddard Institute for Space Studies</td>\n",
       "      <td>https://github.com/NASA-IMPACT/sde-project/iss...</td>\n",
       "      <td>Goddard Institute for Space Studies</td>\n",
       "    </tr>\n",
       "    <tr>\n",
       "      <th>113</th>\n",
       "      <td>EMAC: Exoplanet Modeling and Analysis Center</td>\n",
       "      <td>https://github.com/NASA-IMPACT/sde-project/iss...</td>\n",
       "      <td>EMAC: Exoplanet Modeling and Analysis Center</td>\n",
       "    </tr>\n",
       "    <tr>\n",
       "      <th>114</th>\n",
       "      <td>NASA POWER</td>\n",
       "      <td>https://github.com/NASA-IMPACT/sde-project/iss...</td>\n",
       "      <td>NASA POWER</td>\n",
       "    </tr>\n",
       "    <tr>\n",
       "      <th>115</th>\n",
       "      <td>MARS Explorer</td>\n",
       "      <td>https://github.com/NASA-IMPACT/sde-project/iss...</td>\n",
       "      <td>Mars Target Encyclopedia (MTE)</td>\n",
       "    </tr>\n",
       "    <tr>\n",
       "      <th>116</th>\n",
       "      <td>Astropedia</td>\n",
       "      <td>https://github.com/NASA-IMPACT/sde-project/iss...</td>\n",
       "      <td>Astropedia: Lunar and Planetary Cartographic C...</td>\n",
       "    </tr>\n",
       "  </tbody>\n",
       "</table>\n",
       "<p>117 rows × 3 columns</p>\n",
       "</div>"
      ],
      "text/plain": [
       "                                                 title  \\\n",
       "0                                             Astromat   \n",
       "1    Integrated Software for Imagers and Spectromet...   \n",
       "2    PDS PDS Software Tools Tutorial and Viewers We...   \n",
       "3                    Atmospheric Escape Chemistry Page   \n",
       "4    PDS Cartography and Imaging Node Sciences Node...   \n",
       "..                                                 ...   \n",
       "112                Goddard Institute for Space Studies   \n",
       "113       EMAC: Exoplanet Modeling and Analysis Center   \n",
       "114                                         NASA POWER   \n",
       "115                                      MARS Explorer   \n",
       "116                                         Astropedia   \n",
       "\n",
       "                                                   url  \\\n",
       "0    https://github.com/NASA-IMPACT/sde-project/iss...   \n",
       "1    https://github.com/NASA-IMPACT/sde-project/iss...   \n",
       "2    https://github.com/NASA-IMPACT/sde-project/iss...   \n",
       "3    https://github.com/NASA-IMPACT/sde-project/iss...   \n",
       "4    https://github.com/NASA-IMPACT/sde-project/iss...   \n",
       "..                                                 ...   \n",
       "112  https://github.com/NASA-IMPACT/sde-project/iss...   \n",
       "113  https://github.com/NASA-IMPACT/sde-project/iss...   \n",
       "114  https://github.com/NASA-IMPACT/sde-project/iss...   \n",
       "115  https://github.com/NASA-IMPACT/sde-project/iss...   \n",
       "116  https://github.com/NASA-IMPACT/sde-project/iss...   \n",
       "\n",
       "                                           guess_title  \n",
       "0                 Astromat: Astromaterials Data System  \n",
       "1    Integrated Software for Imagers and Spectromet...  \n",
       "2    PDS PDS Software Tools Tutorial and Viewers We...  \n",
       "3                    Atmospheric Escape Chemistry Page  \n",
       "4    PDS Cartography and Imaging Node Sciences Node...  \n",
       "..                                                 ...  \n",
       "112                Goddard Institute for Space Studies  \n",
       "113       EMAC: Exoplanet Modeling and Analysis Center  \n",
       "114                                         NASA POWER  \n",
       "115                     Mars Target Encyclopedia (MTE)  \n",
       "116  Astropedia: Lunar and Planetary Cartographic C...  \n",
       "\n",
       "[117 rows x 3 columns]"
      ]
     },
     "execution_count": 9,
     "metadata": {},
     "output_type": "execute_result"
    }
   ],
   "source": [
    "gh_issues_df"
   ]
  },
  {
   "cell_type": "code",
   "execution_count": 13,
   "metadata": {},
   "outputs": [],
   "source": [
    "json.dump(gh_issues_df[['url', 'guess_title']].to_dict('records'), open('myjson.json', 'w'))"
   ]
  }
 ],
 "metadata": {
  "kernelspec": {
   "display_name": "base",
   "language": "python",
   "name": "python3"
  },
  "language_info": {
   "codemirror_mode": {
    "name": "ipython",
    "version": 3
   },
   "file_extension": ".py",
   "mimetype": "text/x-python",
   "name": "python",
   "nbconvert_exporter": "python",
   "pygments_lexer": "ipython3",
   "version": "3.9.13"
  },
  "orig_nbformat": 4
 },
 "nbformat": 4,
 "nbformat_minor": 2
}
