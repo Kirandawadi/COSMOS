{
 "cells": [
  {
   "cell_type": "code",
   "execution_count": 51,
   "metadata": {},
   "outputs": [],
   "source": [
    "import pandas as pd\n",
    "import json\n"
   ]
  },
  {
   "cell_type": "code",
   "execution_count": 52,
   "metadata": {},
   "outputs": [],
   "source": [
    "with open('data/github_sources.txt', 'r') as sources:\n",
    "    github_collections = sources.read().splitlines()\n"
   ]
  },
  {
   "cell_type": "code",
   "execution_count": 53,
   "metadata": {},
   "outputs": [],
   "source": [
    "webapp_collections = json.load(open(\"../sde_collections/fixtures/collections.json\"))\n",
    "webapp_collections = [i['fields']['config_folder'] for i in webapp_collections]\n"
   ]
  },
  {
   "cell_type": "code",
   "execution_count": 54,
   "metadata": {},
   "outputs": [
    {
     "data": {
      "text/plain": [
       "334"
      ]
     },
     "execution_count": 54,
     "metadata": {},
     "output_type": "execute_result"
    }
   ],
   "source": [
    "len(set(webapp_collections))\n"
   ]
  },
  {
   "cell_type": "code",
   "execution_count": 55,
   "metadata": {},
   "outputs": [
    {
     "data": {
      "text/plain": [
       "298"
      ]
     },
     "execution_count": 55,
     "metadata": {},
     "output_type": "execute_result"
    }
   ],
   "source": [
    "len(set(github_collections))\n"
   ]
  },
  {
   "cell_type": "code",
   "execution_count": 56,
   "metadata": {},
   "outputs": [
    {
     "data": {
      "text/plain": [
       "44"
      ]
     },
     "execution_count": 56,
     "metadata": {},
     "output_type": "execute_result"
    }
   ],
   "source": [
    "# on webapp but not on github\n",
    "webapp_but_not_github = list(set(webapp_collections) - set(github_collections))\n",
    "len(webapp_but_not_github)\n"
   ]
  },
  {
   "cell_type": "code",
   "execution_count": 57,
   "metadata": {},
   "outputs": [
    {
     "data": {
      "text/plain": [
       "8"
      ]
     },
     "execution_count": 57,
     "metadata": {},
     "output_type": "execute_result"
    }
   ],
   "source": [
    "# on github but not on webapp\n",
    "github_but_not_webapp = list(set(github_collections) - set(webapp_collections))\n",
    "len(github_but_not_webapp)\n"
   ]
  },
  {
   "cell_type": "code",
   "execution_count": 58,
   "metadata": {},
   "outputs": [
    {
     "data": {
      "text/plain": [
       "['NasaEarthObservationWebsite',\n",
       " 'NAVO_HEASARC',\n",
       " 'ntrs_api',\n",
       " 'naif',\n",
       " 'pds_rings',\n",
       " 'HAPI_API',\n",
       " 'PDS4_API',\n",
       " 'SPASE_JSON']"
      ]
     },
     "execution_count": 58,
     "metadata": {},
     "output_type": "execute_result"
    }
   ],
   "source": [
    "github_but_not_webapp\n"
   ]
  },
  {
   "cell_type": "code",
   "execution_count": 59,
   "metadata": {},
   "outputs": [
    {
     "data": {
      "text/plain": [
       "['ssa_queries',\n",
       " 'irsa_api',\n",
       " 'most',\n",
       " '2mass_batch_image_service',\n",
       " '2mass_interactive_image_service',\n",
       " 'swas_api_search',\n",
       " 'navo_registry',\n",
       " 'vo_simple_cone_search',\n",
       " 'data_set_status',\n",
       " 'small_bodies_node_data_by_type_of_observation',\n",
       " 'small_bodies_node_data_by_target_type',\n",
       " 'viewmaster_data_archives_calibrated',\n",
       " 'ftp_access',\n",
       " 'planck_data_tools',\n",
       " 'fake_collection_for_testing',\n",
       " 'herschel_data_search',\n",
       " 'galactic_dust_reddening_and_extinction',\n",
       " 'irsa_votable_access_protocol',\n",
       " 'scanpi',\n",
       " 'hires',\n",
       " 'viewmaster_data_previews',\n",
       " 'viewmaster_data_archives_diagrams',\n",
       " '2mass_image_inventory_search',\n",
       " 'wise_neowise_coadder',\n",
       " 'exoplanet_follow_up_observing_program',\n",
       " 'viewmaster_data_diagrams',\n",
       " 'irsa_idl_tools',\n",
       " 'index',\n",
       " 'atlas_api_search',\n",
       " '2mass_api_search',\n",
       " 'image_and_spectrum_server_atlas',\n",
       " 'viewmaster_documents',\n",
       " 'irsa',\n",
       " 'exofop_k2_campaign_9',\n",
       " 'nasa_sea_level_change',\n",
       " 'viewmaster_data_archives_previews',\n",
       " 'image_validation',\n",
       " 'object_coordinate_lookup',\n",
       " 'viewmaster_data_archives_volumes',\n",
       " 'swas_spectrum_server',\n",
       " 'background_model',\n",
       " 'viewmaster_data_volumes',\n",
       " 'viewmaster_data_calibrated',\n",
       " 'pds_geosciences_node_community']"
      ]
     },
     "execution_count": 59,
     "metadata": {},
     "output_type": "execute_result"
    }
   ],
   "source": [
    "webapp_but_not_github\n"
   ]
  },
  {
   "cell_type": "code",
   "execution_count": null,
   "metadata": {},
   "outputs": [],
   "source": []
  }
 ],
 "metadata": {
  "kernelspec": {
   "display_name": "base",
   "language": "python",
   "name": "python3"
  },
  "language_info": {
   "codemirror_mode": {
    "name": "ipython",
    "version": 3
   },
   "file_extension": ".py",
   "mimetype": "text/x-python",
   "name": "python",
   "nbconvert_exporter": "python",
   "pygments_lexer": "ipython3",
   "version": "3.11.5"
  }
 },
 "nbformat": 4,
 "nbformat_minor": 2
}
