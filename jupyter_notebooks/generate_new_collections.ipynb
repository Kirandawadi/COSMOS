{
 "cells": [
  {
   "cell_type": "code",
   "execution_count": 21,
   "metadata": {},
   "outputs": [],
   "source": [
    "import json\n",
    "import pandas as pd"
   ]
  },
  {
   "cell_type": "code",
   "execution_count": 22,
   "metadata": {},
   "outputs": [],
   "source": [
    "df = pd.read_csv('kaylin_new_collections.csv')\n",
    "df.rename(columns={\"Hierarchy in 'Science Knowledge Sources'\": \"hierarchy\", \"Label in 'Science Knowledge Sources'\": \"label\"}, inplace=True)\n",
    "\n",
    "def generate_tree_root(row):\n",
    "    return f\"/{row['Division']}/{row['hierarchy']}/{row['label']}\"\n",
    "\n",
    "def generate_json(row):\n",
    "    return {\n",
    "        \"model\": \"sde_collections.collection\",\n",
    "        \"fields\": {\n",
    "            \"name\": row[\"Name of Resource\"],\n",
    "            \"config_folder\": row[\"Machine Name\"],\n",
    "            \"url\": row[\"URL\"],\n",
    "            \"turned_on\": True,\n",
    "            \"division\": row[\"Division\"],\n",
    "            \"source\": 2,\n",
    "            \"tree_root\": row['tree_root'],\n",
    "            \"update_frequency\": 2,\n",
    "            \"delete\": False,\n",
    "            \"audit_hierarchy\": \"\",\n",
    "            \"audit_url\": \"\",\n",
    "            \"audit_mapping\": \"\",\n",
    "            \"audit_label\": \"\",\n",
    "            \"audit_query\": \"\",\n",
    "            \"audit_duplicate_results\": \"\",\n",
    "            \"audit_metrics\": \"\",\n",
    "            \"cleaning_assigned_to\": \"\",\n",
    "            \"notes\": \"\",\n",
    "            \"new_collection\": True,\n",
    "        }\n",
    "    }\n",
    "\n",
    "df['tree_root'] = df.apply(generate_tree_root, axis=1)\n",
    "\n",
    "# replace division names with ids\n",
    "division_mapper = {\n",
    "    \"Planetary Science\": 5,\n",
    "    \"Earth Science\": 3,\n",
    "    \"Biological and Physical Sciences\": 2,\n",
    "    \"Heliophysics\": 4,\n",
    "    \"Astrophysics\": 1,\n",
    "}\n",
    "df['Division'].replace(division_mapper, inplace=True)\n",
    "df['json'] = df.apply(generate_json, axis=1)"
   ]
  },
  {
   "cell_type": "code",
   "execution_count": 23,
   "metadata": {},
   "outputs": [],
   "source": [
    "with open('../sde_collections/fixtures/new_collections.json', 'w') as fixturefile:\n",
    "    fixturefile.write(json.dumps(df.json.to_list(), indent=4))"
   ]
  }
 ],
 "metadata": {
  "kernelspec": {
   "display_name": "base",
   "language": "python",
   "name": "python3"
  },
  "language_info": {
   "codemirror_mode": {
    "name": "ipython",
    "version": 3
   },
   "file_extension": ".py",
   "mimetype": "text/x-python",
   "name": "python",
   "nbconvert_exporter": "python",
   "pygments_lexer": "ipython3",
   "version": "3.9.13"
  },
  "orig_nbformat": 4
 },
 "nbformat": 4,
 "nbformat_minor": 2
}
